{
 "cells": [
  {
   "cell_type": "code",
   "execution_count": null,
   "id": "00f70cf3",
   "metadata": {},
   "outputs": [],
   "source": [
    "\"\"\"\n",
    "Configuration file for DDQN Trading System\n",
    "All adjustable parameters are centralized here\n",
    "\"\"\""
   ]
  },
  {
   "cell_type": "code",
   "execution_count": null,
   "id": "134e44c3",
   "metadata": {},
   "outputs": [],
   "source": [
    "import torch"
   ]
  },
  {
   "cell_type": "markdown",
   "id": "e9ed3694",
   "metadata": {},
   "source": [
    "=============================================================================\n",
    "MARKET PARAMETERS (EASILY ADJUSTABLE)\n",
    "============================================================================="
   ]
  },
  {
   "cell_type": "code",
   "execution_count": null,
   "id": "9b8a0fb9",
   "metadata": {},
   "outputs": [],
   "source": [
    "# Commodity-specific settings\n",
    "TICK_VALUE = 10.0  # $10 for crude, $12.50 for wheat/corn, $25 for LS Gasoil\n",
    "MAX_CONTRACTS = 8  # Maximum position size\n",
    "TRANSACTION_COST_PER_CONTRACT = 1.50  # Transaction cost per contract"
   ]
  },
  {
   "cell_type": "code",
   "execution_count": null,
   "id": "c231c336",
   "metadata": {},
   "outputs": [],
   "source": [
    "# Slippage settings\n",
    "BID_ASK_SLIPPAGE = 1  # Slippage in ticks per contract\n",
    "SLIPPAGE_ENABLED = True"
   ]
  },
  {
   "cell_type": "markdown",
   "id": "06151772",
   "metadata": {},
   "source": [
    "=============================================================================\n",
    "RISK MANAGEMENT PARAMETERS (EASILY ADJUSTABLE)\n",
    "============================================================================="
   ]
  },
  {
   "cell_type": "code",
   "execution_count": null,
   "id": "b9f8d847",
   "metadata": {},
   "outputs": [],
   "source": [
    "MAX_DAILY_LOSS = 500.0  # Maximum daily loss in dollars\n",
    "STOP_LOSS_ENABLED = True\n",
    "STOP_LOSS_PERCENTAGE = 0.1  # 2% stop loss on total capital"
   ]
  },
  {
   "cell_type": "code",
   "execution_count": null,
   "id": "89e70534",
   "metadata": {},
   "outputs": [],
   "source": [
    "# Position limits\n",
    "MIN_POSITION_SIZE = 0  # Minimum position size in contracts\n",
    "#POSITION_SIZE_INCREMENT = 1  # Position size increments"
   ]
  },
  {
   "cell_type": "markdown",
   "id": "8b84366e",
   "metadata": {},
   "source": [
    "=============================================================================\n",
    "DATA PARAMETERS (EASILY ADJUSTABLE)\n",
    "============================================================================="
   ]
  },
  {
   "cell_type": "code",
   "execution_count": null,
   "id": "eb5b279b",
   "metadata": {},
   "outputs": [],
   "source": [
    "# Lookback window for LSTM\n",
    "LOOKBACK_WINDOW = 40  # Days to look back (adjustable: 20-252)\n",
    "MIN_LOOKBACK_FOR_TRAINING = 40  # Minimum data needed before training starts"
   ]
  },
  {
   "cell_type": "code",
   "execution_count": null,
   "id": "c1eaa754",
   "metadata": {},
   "outputs": [],
   "source": [
    "# Data splits\n",
    "TRAIN_RATIO = 0.7\n",
    "VAL_RATIO = 0.15\n",
    "TEST_RATIO = 0.15"
   ]
  },
  {
   "cell_type": "code",
   "execution_count": null,
   "id": "64d2469b",
   "metadata": {},
   "outputs": [],
   "source": [
    "# Feature columns (based on your CSV structure)\n",
    "FEATURE_COLUMNS = [\n",
    "    'PX_OPEN1', 'PX_HIGH1', 'PX_LOW1', 'PX_LAST1', 'PX_VOLUME1', 'OPEN_INT1',\n",
    "    'PX_OPEN2', 'PX_HIGH2', 'PX_LOW2', 'PX_LAST2', 'PX_VOLUME2', 'OPEN_INT2',\n",
    "    'VOL Change1', 'Vol Change %1', 'OI Change1', 'OI Change %1',\n",
    "    'CALENDAR', 'Vol Ratio', 'Vol Ratio Change', 'OI Ratio', 'OI Ratio Change',\n",
    "    'VOL Change2', 'Vol Change %2', 'OI Change2', 'OI Change %2'\n",
    "]"
   ]
  },
  {
   "cell_type": "code",
   "execution_count": null,
   "id": "d2abe3b5",
   "metadata": {},
   "outputs": [],
   "source": [
    "TARGET_COLUMN = 'CALENDAR'  # What the agent trades\n",
    "DATE_COLUMN = 'Dates'       # Your date column name"
   ]
  },
  {
   "cell_type": "markdown",
   "id": "0fe32842",
   "metadata": {},
   "source": [
    "=============================================================================\n",
    "GOLDMAN ROLL PATTERN PARAMETERS - saving??\n",
    "============================================================================="
   ]
  },
  {
   "cell_type": "code",
   "execution_count": null,
   "id": "f5275900",
   "metadata": {},
   "outputs": [],
   "source": [
    "# Goldman roll typically occurs 5th-9th business day of month\n",
    "GOLDMAN_ROLL_START_DAY = 5  # 5th business day\n",
    "GOLDMAN_ROLL_END_DAY = 9    # 9th business day\n",
    "GOLDMAN_ROLL_WINDOW = 15    # Total window around roll (5 before, 5 during, 5 after)"
   ]
  },
  {
   "cell_type": "markdown",
   "id": "9f86d1c6",
   "metadata": {},
   "source": [
    "=============================================================================\n",
    "LSTM PARAMETERS\n",
    "============================================================================="
   ]
  },
  {
   "cell_type": "code",
   "execution_count": null,
   "id": "f49c5000",
   "metadata": {},
   "outputs": [],
   "source": [
    "# LSTM Architecture\n",
    "LSTM_HIDDEN_SIZE = 200        # Hidden state size\n",
    "LSTM_NUM_LAYERS = 3           # Number of LSTM layers (2-3 typical)\n",
    "LSTM_DROPOUT = 0.3            # Dropout between LSTM layers\n",
    "LSTM_BIDIRECTIONAL = False    # Whether to use bidirectional LSTM\n",
    "LSTM_PROCESSING_DIM = 256     # Size of post-LSTM processing layers"
   ]
  },
  {
   "cell_type": "code",
   "execution_count": null,
   "id": "4a3afd1d",
   "metadata": {},
   "outputs": [],
   "source": [
    "HIDDEN_DIMS = [512, 256, 128]  # Sizes of hidden layers in DQN head"
   ]
  },
  {
   "cell_type": "markdown",
   "id": "867aefed",
   "metadata": {},
   "source": [
    "=============================================================================\n",
    "DDQN TRAINING PARAMETERS\n",
    "============================================================================="
   ]
  },
  {
   "cell_type": "code",
   "execution_count": null,
   "id": "2f8cce97",
   "metadata": {},
   "outputs": [],
   "source": [
    "LEARNING_RATE = 0.0001        # Adam learning rate\n",
    "GAMMA = 0.99                  # Discount factor for future rewards\n",
    "TAU = 0.005                   # Soft update rate for target network\n",
    "BATCH_SIZE = 16               # Training batch size"
   ]
  },
  {
   "cell_type": "markdown",
   "id": "16de5a0d",
   "metadata": {},
   "source": [
    "=============================================================================\n",
    "ACTION SPACE PARAMETERS\n",
    "============================================================================="
   ]
  },
  {
   "cell_type": "code",
   "execution_count": null,
   "id": "c1d88aec",
   "metadata": {},
   "outputs": [],
   "source": [
    "# Position changes (as percentages of max position)\n",
    "POSITION_ACTIONS = [-1.0, -0.5, 0.0, 0.5, 1.0]\n",
    "# Negative = reduce long/increase short, Positive = increase long/reduce short"
   ]
  },
  {
   "cell_type": "code",
   "execution_count": null,
   "id": "d9e49211",
   "metadata": {},
   "outputs": [],
   "source": [
    "# Action mapping\n",
    "ACTION_SPACE_SIZE = len(POSITION_ACTIONS)"
   ]
  },
  {
   "cell_type": "markdown",
   "id": "8480e3a0",
   "metadata": {},
   "source": [
    "=============================================================================\n",
    "REWARD FUNCTION PARAMETERS (EASILY ADJUSTABLE)\n",
    "============================================================================="
   ]
  },
  {
   "cell_type": "code",
   "execution_count": null,
   "id": "69e4a1f5",
   "metadata": {},
   "outputs": [],
   "source": [
    "# Reward function weights\n",
    "REWARD_PNL_WEIGHT = 0.8        # Weight for P&L component\n",
    "REWARD_WINRATE_WEIGHT = 0.1    # Weight for win rate component  \n",
    "REWARD_RISK_WEIGHT = 0.1       # Weight for risk penalty component"
   ]
  },
  {
   "cell_type": "code",
   "execution_count": null,
   "id": "6d7b2227",
   "metadata": {},
   "outputs": [],
   "source": [
    "# Risk penalty parameters\n",
    "DRAWDOWN_PENALTY_THRESHOLD = 0.1  # 5% drawdown threshold\n",
    "POSITION_SIZE_PENALTY = 0.01       # Penalty for large positions"
   ]
  },
  {
   "cell_type": "markdown",
   "id": "ea3f75b1",
   "metadata": {},
   "source": [
    "=============================================================================\n",
    "TRAINING PARAMETERS\n",
    "============================================================================="
   ]
  },
  {
   "cell_type": "code",
   "execution_count": null,
   "id": "cea195fb",
   "metadata": {},
   "outputs": [],
   "source": [
    "# Training schedule\n",
    "EPISODES = 10000  # Number of complete runs through data\n",
    "MEMORY_SIZE = 4000  # How many past experiences the agent remembers.\n",
    "UPDATE_FREQUENCY = 3  # How often the network trains\n",
    "TARGET_UPDATE_FREQUENCY = 200"
   ]
  },
  {
   "cell_type": "code",
   "execution_count": null,
   "id": "92c101f0",
   "metadata": {},
   "outputs": [],
   "source": [
    "# Exploration parameters\n",
    "EPSILON_START = 1.0     # Starting exploration (100%)\n",
    "EPSILON_END = 0.01      # Final exploration (1%)\n",
    "EPSILON_DECAY = 0.999   #  How fast to reduce exploration"
   ]
  },
  {
   "cell_type": "code",
   "execution_count": null,
   "id": "5635642d",
   "metadata": {},
   "outputs": [],
   "source": [
    "# Early stopping\n",
    "PATIENCE = 50  # Episodes without improvement before stopping\n",
    "MIN_IMPROVEMENT = 0.001"
   ]
  },
  {
   "cell_type": "markdown",
   "id": "f31882c6",
   "metadata": {},
   "source": [
    "=============================================================================\n",
    "DEVICE AND PERFORMANCE\n",
    "============================================================================="
   ]
  },
  {
   "cell_type": "code",
   "execution_count": null,
   "id": "7c713540",
   "metadata": {},
   "outputs": [],
   "source": [
    "# Device selection\n",
    "DEVICE = torch.device(\"cuda\" if torch.cuda.is_available() else \"cpu\")\n",
    "NUM_WORKERS = 4  # For data loading"
   ]
  },
  {
   "cell_type": "markdown",
   "id": "204cca34",
   "metadata": {},
   "source": [
    "=============================================================================\n",
    "LOGGING AND VISUALIZATION\n",
    "============================================================================="
   ]
  },
  {
   "cell_type": "code",
   "execution_count": null,
   "id": "7a7205c0",
   "metadata": {},
   "outputs": [],
   "source": [
    "# Logging frequency\n",
    "LOG_FREQUENCY = 10  # Episodes\n",
    "SAVE_FREQUENCY = 250  # Episodes"
   ]
  },
  {
   "cell_type": "code",
   "execution_count": null,
   "id": "9b5b93a5",
   "metadata": {},
   "outputs": [],
   "source": [
    "# Paths\n",
    "MODEL_SAVE_PATH = \"models/\"\n",
    "LOG_SAVE_PATH = \"logs/\"\n",
    "RESULTS_SAVE_PATH = \"results/\""
   ]
  },
  {
   "cell_type": "code",
   "execution_count": null,
   "id": "af12b20a",
   "metadata": {},
   "outputs": [],
   "source": [
    "# Visualization parameters\n",
    "PLOT_TRAINING_CURVES = True\n",
    "PLOT_TRADING_RESULTS = True\n",
    "SAVE_PLOTS = True"
   ]
  },
  {
   "cell_type": "markdown",
   "id": "be8d4219",
   "metadata": {},
   "source": [
    "=============================================================================\n",
    "BACKTESTING PARAMETERS\n",
    "============================================================================="
   ]
  },
  {
   "cell_type": "code",
   "execution_count": null,
   "id": "fc07755f",
   "metadata": {},
   "outputs": [],
   "source": [
    "# Initial capital\n",
    "INITIAL_CAPITAL = 10000.0 "
   ]
  },
  {
   "cell_type": "code",
   "execution_count": null,
   "id": "0e14a57e",
   "metadata": {},
   "outputs": [],
   "source": [
    "# Performance metrics to track\n",
    "TRACK_METRICS = [\n",
    "    'total_return', 'sharpe_ratio', 'max_drawdown', 'win_rate',\n",
    "    'profit_factor', 'total_trades', 'avg_trade_duration'\n",
    "]"
   ]
  },
  {
   "cell_type": "markdown",
   "id": "abf6fe6e",
   "metadata": {},
   "source": [
    "=============================================================================\n",
    "QUICK TEST PARAMETERS (FOR INITIAL FAMILIARIZATION)\n",
    "============================================================================="
   ]
  },
  {
   "cell_type": "code",
   "execution_count": null,
   "id": "549eaaab",
   "metadata": {},
   "outputs": [],
   "source": [
    "# Use smaller dataset for initial testing\n",
    "QUICK_TEST_MODE = False\n",
    "QUICK_TEST_YEARS = 3  # Use 2 years of data (1 train, 1 test)\n",
    "QUICK_TEST_EPISODES = 1000  # Fewer episodes for quick testing"
   ]
  },
  {
   "cell_type": "code",
   "execution_count": null,
   "id": "d0740e77",
   "metadata": {},
   "outputs": [],
   "source": [
    "print(f\"Configuration loaded successfully!\")\n",
    "print(f\"Device: {DEVICE}\")\n",
    "print(f\"Lookback window: {LOOKBACK_WINDOW} days\")\n",
    "print(f\"Max contracts: {MAX_CONTRACTS}\")\n",
    "print(f\"Tick value: ${TICK_VALUE}\")\n",
    "print(f\"Quick test mode: {QUICK_TEST_MODE}\")"
   ]
  }
 ],
 "metadata": {
  "jupytext": {
   "cell_metadata_filter": "-all",
   "main_language": "python",
   "notebook_metadata_filter": "-all"
  }
 },
 "nbformat": 4,
 "nbformat_minor": 5
}
